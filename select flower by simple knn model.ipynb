{
 "cells": [
  {
   "cell_type": "code",
   "execution_count": 10,
   "metadata": {},
   "outputs": [],
   "source": [
    "#构建模型\n",
    "from sklearn.datasets import load_iris\n",
    "from sklearn.naive_bayes import GaussianNB\n",
    "from sklearn.neighbors import KNeighborsClassifier\n",
    "from sklearn.tree import DecisionTreeClassifier\n",
    "from sklearn.model_selection import train_test_split\n",
    "from sklearn.metrics import accuracy_score\n",
    "iris=load_iris()"
   ]
  },
  {
   "cell_type": "code",
   "execution_count": 11,
   "metadata": {},
   "outputs": [],
   "source": [
    "# Iris中的特征和类别分别赋值给x和y\n",
    "x=iris.data\n",
    "y=iris.target"
   ]
  },
  {
   "cell_type": "code",
   "execution_count": 12,
   "metadata": {},
   "outputs": [],
   "source": [
    "# 调用train_test_split方法将数据集划分为训练集（x_train以及y_train)和测试集（x_test以及y_test)\n",
    "x_train,x_test,y_train,y_test=train_test_split(x,y,test_size=1/4,random_state=0)"
   ]
  },
  {
   "cell_type": "code",
   "execution_count": 13,
   "metadata": {},
   "outputs": [
    {
     "name": "stdout",
     "output_type": "stream",
     "text": [
      "数据集的样本数：150,训练集的样本数：112,测试集的样本数:38\n"
     ]
    }
   ],
   "source": [
    "print('数据集的样本数：{},训练集的样本数：{},测试集的样本数:{}'.format(len(x),len(x_train),len(x_test)))"
   ]
  },
  {
   "cell_type": "code",
   "execution_count": 14,
   "metadata": {},
   "outputs": [],
   "source": [
    "knn_model=KNeighborsClassifier(n_neighbors=5)"
   ]
  },
  {
   "cell_type": "code",
   "execution_count": 15,
   "metadata": {},
   "outputs": [
    {
     "data": {
      "text/plain": [
       "KNeighborsClassifier(algorithm='auto', leaf_size=30, metric='minkowski',\n",
       "           metric_params=None, n_jobs=1, n_neighbors=5, p=2,\n",
       "           weights='uniform')"
      ]
     },
     "execution_count": 15,
     "metadata": {},
     "output_type": "execute_result"
    }
   ],
   "source": [
    "# 训练模型\n",
    "knn_model.fit(x_train,y_train)"
   ]
  },
  {
   "cell_type": "code",
   "execution_count": 16,
   "metadata": {},
   "outputs": [
    {
     "name": "stdout",
     "output_type": "stream",
     "text": [
      "模型在测试集上的准确率是：0.973684\n"
     ]
    }
   ],
   "source": [
    "# 在测试集上验证一下模型的准确率\n",
    "acc=knn_model.score(x_test,y_test)\n",
    "print('模型在测试集上的准确率是：{:3f}'.format(acc))"
   ]
  },
  {
   "cell_type": "code",
   "execution_count": 20,
   "metadata": {},
   "outputs": [
    {
     "name": "stdout",
     "output_type": "stream",
     "text": [
      "请输入萼片长度(厘米）：0.6\n",
      "请输入萼片宽度(厘米)：1\n",
      "请输入花瓣长度(厘米)：0.8\n",
      "请输入花瓣宽度(厘米)：1\n"
     ]
    }
   ],
   "source": [
    "# 读入用户输入\n",
    "# 我们通过input函数输入花片长度，花片宽度，花瓣长度，花瓣宽度这四个属性值\n",
    "sepalLength = input(\"请输入萼片长度(厘米）：\")\n",
    "sepalWidth = input(\"请输入萼片宽度(厘米)：\")\n",
    "petalLength  = input(\"请输入花瓣长度(厘米)：\")\n",
    "petalWidth = input(\"请输入花瓣宽度(厘米)：\")"
   ]
  },
  {
   "cell_type": "code",
   "execution_count": 21,
   "metadata": {},
   "outputs": [],
   "source": [
    "# 模型预测\n",
    "import numpy as np\n",
    "result = knn_model.predict(np.array([sepalLength, \n",
    "                                     sepalWidth, \n",
    "                                     petalLength, \n",
    "                                     petalWidth]).reshape(1, -1).astype(np.float64))"
   ]
  },
  {
   "cell_type": "code",
   "execution_count": 22,
   "metadata": {},
   "outputs": [
    {
     "name": "stdout",
     "output_type": "stream",
     "text": [
      "您好，预测您输入的是：山鸢尾\n"
     ]
    }
   ],
   "source": [
    "# 根据结果，0 -> 山鸢尾，1 -> 变色鸢尾，2 -> 弗吉尼亚鸢尾\n",
    "result_map = {0: '山鸢尾', 1: '变色鸢尾', 2: '弗吉尼亚鸢尾'}\n",
    "print('您好，预测您输入的是：{}'.format(result_map[result[0]]))"
   ]
  },
  {
   "cell_type": "code",
   "execution_count": null,
   "metadata": {},
   "outputs": [],
   "source": []
  },
  {
   "cell_type": "code",
   "execution_count": null,
   "metadata": {},
   "outputs": [],
   "source": []
  },
  {
   "cell_type": "code",
   "execution_count": null,
   "metadata": {},
   "outputs": [],
   "source": []
  },
  {
   "cell_type": "code",
   "execution_count": null,
   "metadata": {},
   "outputs": [],
   "source": []
  },
  {
   "cell_type": "code",
   "execution_count": null,
   "metadata": {},
   "outputs": [],
   "source": []
  }
 ],
 "metadata": {
  "kernelspec": {
   "display_name": "Python 3",
   "language": "python",
   "name": "python3"
  },
  "language_info": {
   "codemirror_mode": {
    "name": "ipython",
    "version": 3
   },
   "file_extension": ".py",
   "mimetype": "text/x-python",
   "name": "python",
   "nbconvert_exporter": "python",
   "pygments_lexer": "ipython3",
   "version": "3.6.4"
  }
 },
 "nbformat": 4,
 "nbformat_minor": 2
}